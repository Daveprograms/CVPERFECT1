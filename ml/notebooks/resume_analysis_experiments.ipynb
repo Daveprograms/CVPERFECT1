{
  "cells": [
    {
      "cell_type": "raw",
      "metadata": {
        "vscode": {
          "languageId": "raw"
        }
      },
      "source": [
        "# Resume Analysis Experiments\n",
        "\n",
        "This notebook contains experiments and analysis for the CVPerfect resume analysis system.\n",
        "Use this for testing new algorithms, analyzing results, and developing new features.\n"
      ]
    },
    {
      "cell_type": "code",
      "execution_count": null,
      "metadata": {},
      "outputs": [],
      "source": [
        "# Setup and Imports\n",
        "import sys\n",
        "import os\n",
        "from pathlib import Path\n",
        "\n",
        "# Add the project root to the path\n",
        "project_root = Path('.').absolute().parent.parent\n",
        "sys.path.append(str(project_root))\n",
        "\n",
        "# Standard libraries\n",
        "import pandas as pd\n",
        "import numpy as np\n",
        "import matplotlib.pyplot as plt\n",
        "import seaborn as sns\n",
        "from collections import Counter\n",
        "import json\n",
        "\n",
        "# ML libraries\n",
        "from sklearn.feature_extraction.text import TfidfVectorizer\n",
        "from sklearn.metrics.pairwise import cosine_similarity\n",
        "\n",
        "# Our modules (using existing Gemini integration)\n",
        "try:\n",
        "    from ml.nlp.resume_analyzer import ResumeAnalyzer\n",
        "    from ml.utils.text_processing import extract_keywords, clean_text\n",
        "    from ml.ranking.job_matcher import JobMatcher\n",
        "except ImportError:\n",
        "    print(\"Note: ML modules not available. Install dependencies to use full functionality.\")\n",
        "\n",
        "# Visualization settings\n",
        "plt.style.use('default')\n",
        "sns.set_palette(\"husl\")\n",
        "\n",
        "print(\"✅ Setup complete! Ready for resume analysis experiments.\")\n"
      ]
    }
  ],
  "metadata": {
    "language_info": {
      "name": "python"
    }
  },
  "nbformat": 4,
  "nbformat_minor": 2
}
